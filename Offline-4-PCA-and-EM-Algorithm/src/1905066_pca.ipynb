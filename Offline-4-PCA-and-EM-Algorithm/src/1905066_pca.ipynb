{
 "cells": [
  {
   "cell_type": "code",
   "execution_count": null,
   "metadata": {},
   "outputs": [],
   "source": [
    "import numpy as np\n",
    "import matplotlib.pyplot as plt\n",
    "from sklearn.manifold import TSNE"
   ]
  },
  {
   "cell_type": "code",
   "execution_count": null,
   "metadata": {},
   "outputs": [],
   "source": [
    "def scatter_plot(data, title=None, x_label=None, y_label=None):\n",
    "    # plt.figure(figsize=(10, 7))\n",
    "    plt.scatter(data[:,0], data[:,1], alpha=0.6, s=5)\n",
    "    if title:\n",
    "        plt.title(title)\n",
    "    if x_label:\n",
    "        plt.xlabel(x_label)\n",
    "    if y_label:\n",
    "        plt.ylabel(y_label)\n",
    "    plt.show()"
   ]
  },
  {
   "cell_type": "code",
   "execution_count": null,
   "metadata": {},
   "outputs": [],
   "source": [
    "# Load the dataset\n",
    "data = np.loadtxt(\"data/pca_data.txt\")"
   ]
  },
  {
   "cell_type": "code",
   "execution_count": null,
   "metadata": {},
   "outputs": [],
   "source": [
    "# Standardize the data\n",
    "mean = np.mean(data, axis=0)\n",
    "std = np.std(data, axis=0)\n",
    "standardized_data = (data - mean) / std\n",
    "\n",
    "# Covariance matrix\n",
    "cov_matrix = np.cov(standardized_data.T)\n",
    "\n",
    "# eigenvalues and eigenvectors\n",
    "eigenvalues, eigenvectors = np.linalg.eig(cov_matrix)"
   ]
  },
  {
   "cell_type": "code",
   "execution_count": null,
   "metadata": {},
   "outputs": [],
   "source": [
    "sorted_indices = np.argsort(eigenvalues)[::-1]\n",
    "eigenvalues = eigenvalues[sorted_indices]\n",
    "eigenvectors = eigenvectors[:, sorted_indices]"
   ]
  },
  {
   "cell_type": "code",
   "execution_count": null,
   "metadata": {},
   "outputs": [],
   "source": [
    "# Project Data\n",
    "projected_data = np.dot(standardized_data, eigenvectors[:, :2])\n",
    "scatter_plot(projected_data, \"PCA: 2D Scatter Plot\", \"Principal Component 1\", \"Principal Component 2\")"
   ]
  },
  {
   "cell_type": "code",
   "execution_count": null,
   "metadata": {},
   "outputs": [],
   "source": [
    "# Make UMAP plot\n",
    "import umap\n",
    "mapper = umap.UMAP(random_state=42)\n",
    "umap_data = mapper.fit_transform(data)\n",
    "scatter_plot(umap_data, \"UMAP: 2D Scatter Plot\", \"UMAP 1\", \"UMAP 2\")\n"
   ]
  },
  {
   "cell_type": "code",
   "execution_count": null,
   "metadata": {},
   "outputs": [],
   "source": [
    "# https://www.datacamp.com/tutorial/introduction-t-sne\n",
    "\n",
    "# Create a t-SNE instance\n",
    "tsne = TSNE(n_components=2, random_state=42)\n",
    "\n",
    "# Fit and transform the data\n",
    "tsne_embedding = tsne.fit_transform(data)\n",
    "\n",
    "scatter_plot(tsne_embedding, \"t-SNE: 2D Scatter Plot\", \"t-SNE 1\", \"t-SNE 2\")"
   ]
  }
 ],
 "metadata": {
  "kernelspec": {
   "display_name": "base",
   "language": "python",
   "name": "python3"
  },
  "language_info": {
   "codemirror_mode": {
    "name": "ipython",
    "version": 3
   },
   "file_extension": ".py",
   "mimetype": "text/x-python",
   "name": "python",
   "nbconvert_exporter": "python",
   "pygments_lexer": "ipython3",
   "version": "3.12.5"
  }
 },
 "nbformat": 4,
 "nbformat_minor": 2
}
