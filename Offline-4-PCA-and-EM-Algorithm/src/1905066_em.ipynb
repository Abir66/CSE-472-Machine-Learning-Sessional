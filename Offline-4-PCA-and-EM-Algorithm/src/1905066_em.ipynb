{
 "cells": [
  {
   "cell_type": "code",
   "execution_count": null,
   "metadata": {},
   "outputs": [],
   "source": [
    "import numpy as np\n",
    "from scipy.special import factorial"
   ]
  },
  {
   "cell_type": "code",
   "execution_count": null,
   "metadata": {},
   "outputs": [],
   "source": [
    "data = np.loadtxt('data/em_data.txt')"
   ]
  },
  {
   "cell_type": "code",
   "execution_count": null,
   "metadata": {},
   "outputs": [],
   "source": [
    "np.random.seed(42)\n",
    "num_families = len(data)\n",
    "mean_1 = np.random.uniform(1, 5)  \n",
    "mean_2 = np.random.uniform(5, 10) \n",
    "pi_1 = 0.5  \n",
    "pi_2 = 1 - pi_1"
   ]
  },
  {
   "cell_type": "code",
   "execution_count": null,
   "metadata": {},
   "outputs": [],
   "source": [
    "# EM algorithm\n",
    "max_iters = 100\n",
    "epsilon = 1e-6\n",
    "\n",
    "for _ in range(max_iters):\n",
    "    # E-step\n",
    "    p_1 = pi_1 * (np.exp(-mean_1) * (mean_1 ** data) / factorial(data))\n",
    "    p_2 = pi_2 * (np.exp(-mean_2) * (mean_2 ** data) / factorial(data))\n",
    "    total = p_1 + p_2\n",
    "    gamma_1 = p_1 / total\n",
    "    gamma_2 = p_2 / total\n",
    "\n",
    "    # M-step\n",
    "    new_mean_1 = np.sum(gamma_1 * data) / np.sum(gamma_1)\n",
    "    new_mean_2 = np.sum(gamma_2 * data) / np.sum(gamma_2)\n",
    "    new_pi_1 = np.mean(gamma_1)\n",
    "    new_pi_2 = 1 - new_pi_1\n",
    "\n",
    "    \n",
    "    if abs(mean_1 - new_mean_1) < epsilon and abs(mean_2 - new_mean_2) < epsilon:\n",
    "        break\n",
    "\n",
    "    mean_1, mean_2, pi_1, pi_2 = new_mean_1, new_mean_2, new_pi_1, new_pi_2\n",
    "\n",
    "\n",
    "print(f\"Mean children with family planning: {mean_1}\")\n",
    "print(f\"Mean children without family planning: {mean_2}\")\n",
    "print(f\"Proportion family planning: {pi_1}\")\n",
    "print(f\"Proportion without family planning: {pi_2}\")\n"
   ]
  }
 ],
 "metadata": {
  "kernelspec": {
   "display_name": "base",
   "language": "python",
   "name": "python3"
  },
  "language_info": {
   "codemirror_mode": {
    "name": "ipython",
    "version": 3
   },
   "file_extension": ".py",
   "mimetype": "text/x-python",
   "name": "python",
   "nbconvert_exporter": "python",
   "pygments_lexer": "ipython3",
   "version": "3.12.7"
  }
 },
 "nbformat": 4,
 "nbformat_minor": 2
}
